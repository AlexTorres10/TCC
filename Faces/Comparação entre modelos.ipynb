{
 "cells": [
  {
   "cell_type": "markdown",
   "metadata": {},
   "source": [
    "# Comparação entre modelos\n",
    "\n",
    "O que vou fazer: Testar diferentes _splits_ da database para os modelos SVC e KNN que já são os melhores, comprovado pelos códigos MelhorSVC e MelhorKNN.\n",
    "\n",
    "**Melhor SVC: Kernel linear e gamma auto**\n",
    "Não sei explicar porque, mas nesses parâmetros, o SVC é bem mais consistente que os outros.\n",
    "\n",
    "**Melhor KNN: 3 vizinhos, distância Manhattan (p=1) e peso de distância (weights=distance)**\n",
    "São poucas fotos de cada pessoa, quanto menos vizinhos, mais chances de pegar fotos parecidas, e como para cada pixel, os mais próximos de fato têm mais importância que os mais distantes, o que se reflete aqui.\n",
    "\n",
    "## Importando bibliotecas e lendo a database"
   ]
  },
  {
   "cell_type": "code",
   "execution_count": 1,
   "metadata": {},
   "outputs": [],
   "source": [
    "import pandas as pd\n",
    "import numpy as np\n",
    "from sklearn.neighbors import KNeighborsClassifier, NearestCentroid\n",
    "from sklearn.svm import SVC\n",
    "from sklearn.metrics import accuracy_score\n",
    "from sklearn.model_selection import train_test_split\n",
    "\n",
    "\n",
    "df = pd.read_csv(\"allfotos.csv\")\n",
    "X = df.drop([\"out\"], axis=1)\n",
    "y = df[\"out\"]\n",
    "\n",
    "acc_svc = []\n",
    "acc_knn = []\n",
    "acc_nc = []"
   ]
  },
  {
   "cell_type": "markdown",
   "metadata": {},
   "source": [
    "## 50%-50% de split"
   ]
  },
  {
   "cell_type": "code",
   "execution_count": 2,
   "metadata": {},
   "outputs": [
    {
     "name": "stdout",
     "output_type": "stream",
     "text": [
      "Treino e teste prontos\n",
      "Acurácia do SVC: 94.5 %\n",
      "Acurácia do KNN: 90.0 %\n",
      "Acurácia do NC: 91.0 %\n"
     ]
    }
   ],
   "source": [
    "X_train, X_test, y_train, y_test = train_test_split(\n",
    "     X, y, test_size=0.5, random_state=42)\n",
    "\n",
    "print(\"Treino e teste prontos\")\n",
    "\n",
    "# SVC\n",
    "svc = SVC(kernel='linear',gamma='auto',random_state=42)\n",
    "svc.fit(X_train,y_train)\n",
    "pred_svc = svc.predict(X_test)\n",
    "# KNN\n",
    "knn = KNeighborsClassifier(n_neighbors=3,p=1,weights='distance')\n",
    "knn.fit(X_train,y_train)\n",
    "pred_knn = knn.predict(X_test)\n",
    "\n",
    "# NC\n",
    "nc = NearestCentroid()\n",
    "nc.fit(X_train,y_train)\n",
    "pred_nc = nc.predict(X_test)\n",
    "\n",
    "acc1 = accuracy_score(y_test,pred_svc)*100\n",
    "acc2 = accuracy_score(y_test,pred_knn)*100\n",
    "acc3 = accuracy_score(y_test,pred_nc)*100\n",
    "\n",
    "print(\"Acurácia do SVC:\",acc1,\"%\")\n",
    "print(\"Acurácia do KNN:\",acc2,\"%\")\n",
    "print(\"Acurácia do NC:\",acc3,\"%\")\n",
    "\n",
    "acc_svc.append(acc1)\n",
    "acc_knn.append(acc2)\n",
    "acc_nc.append(acc3)"
   ]
  },
  {
   "cell_type": "markdown",
   "metadata": {},
   "source": [
    "## 55%-45% de split"
   ]
  },
  {
   "cell_type": "code",
   "execution_count": 3,
   "metadata": {},
   "outputs": [
    {
     "name": "stdout",
     "output_type": "stream",
     "text": [
      "Treino e teste prontos\n",
      "Acurácia do SVC: 95.0 %\n",
      "Acurácia do KNN: 91.11111111111111 %\n",
      "Acurácia do NC: 90.55555555555556 %\n"
     ]
    }
   ],
   "source": [
    "X_train, X_test, y_train, y_test = train_test_split(\n",
    "     X, y, test_size=0.45, random_state=42)\n",
    "\n",
    "print(\"Treino e teste prontos\")\n",
    "\n",
    "# SVC\n",
    "svc = SVC(kernel='linear',gamma='auto',random_state=42)\n",
    "svc.fit(X_train,y_train)\n",
    "pred_svc = svc.predict(X_test)\n",
    "\n",
    "# KNN\n",
    "knn = KNeighborsClassifier(n_neighbors=3,p=1,weights='distance')\n",
    "knn.fit(X_train,y_train)\n",
    "pred_knn = knn.predict(X_test)\n",
    "\n",
    "# NC\n",
    "nc = NearestCentroid()\n",
    "nc.fit(X_train,y_train)\n",
    "pred_nc = nc.predict(X_test)\n",
    "\n",
    "acc1 = accuracy_score(y_test,pred_svc)*100\n",
    "acc2 = accuracy_score(y_test,pred_knn)*100\n",
    "acc3 = accuracy_score(y_test,pred_nc)*100\n",
    "\n",
    "print(\"Acurácia do SVC:\",acc1,\"%\")\n",
    "print(\"Acurácia do KNN:\",acc2,\"%\")\n",
    "print(\"Acurácia do NC:\",acc3,\"%\")\n",
    "\n",
    "acc_svc.append(acc1)\n",
    "acc_knn.append(acc2)\n",
    "acc_nc.append(acc3)"
   ]
  },
  {
   "cell_type": "markdown",
   "metadata": {},
   "source": [
    "## 60%-40% de split"
   ]
  },
  {
   "cell_type": "code",
   "execution_count": 4,
   "metadata": {},
   "outputs": [
    {
     "name": "stdout",
     "output_type": "stream",
     "text": [
      "Treino e teste prontos\n",
      "Acurácia do SVC: 96.25 %\n",
      "Acurácia do KNN: 91.875 %\n",
      "Acurácia do NC: 91.25 %\n"
     ]
    }
   ],
   "source": [
    "X_train, X_test, y_train, y_test = train_test_split(\n",
    "     X, y, test_size=0.4, random_state=42)\n",
    "\n",
    "print(\"Treino e teste prontos\")\n",
    "\n",
    "# SVC\n",
    "svc = SVC(kernel='linear',gamma='auto',random_state=42)\n",
    "svc.fit(X_train,y_train)\n",
    "pred_svc = svc.predict(X_test)\n",
    "\n",
    "# KNN\n",
    "knn = KNeighborsClassifier(n_neighbors=3,p=1,weights='distance')\n",
    "knn.fit(X_train,y_train)\n",
    "pred_knn = knn.predict(X_test)\n",
    "\n",
    "# NC\n",
    "nc = NearestCentroid()\n",
    "nc.fit(X_train,y_train)\n",
    "pred_nc = nc.predict(X_test)\n",
    "\n",
    "acc1 = accuracy_score(y_test,pred_svc)*100\n",
    "acc2 = accuracy_score(y_test,pred_knn)*100\n",
    "acc3 = accuracy_score(y_test,pred_nc)*100\n",
    "\n",
    "print(\"Acurácia do SVC:\",acc1,\"%\")\n",
    "print(\"Acurácia do KNN:\",acc2,\"%\")\n",
    "print(\"Acurácia do NC:\",acc3,\"%\")\n",
    "\n",
    "acc_svc.append(acc1)\n",
    "acc_knn.append(acc2)\n",
    "acc_nc.append(acc3)"
   ]
  },
  {
   "cell_type": "markdown",
   "metadata": {},
   "source": [
    "## 65%-35% de split"
   ]
  },
  {
   "cell_type": "code",
   "execution_count": 5,
   "metadata": {},
   "outputs": [
    {
     "name": "stdout",
     "output_type": "stream",
     "text": [
      "Treino e teste prontos\n",
      "Acurácia do SVC: 98.57142857142858 %\n",
      "Acurácia do KNN: 94.28571428571428 %\n",
      "Acurácia do NC: 92.14285714285714 %\n"
     ]
    }
   ],
   "source": [
    "X_train, X_test, y_train, y_test = train_test_split(\n",
    "     X, y, test_size=0.35, random_state=42)\n",
    "\n",
    "print(\"Treino e teste prontos\")\n",
    "\n",
    "# SVC\n",
    "svc = SVC(kernel='linear',gamma='auto',random_state=42)\n",
    "svc.fit(X_train,y_train)\n",
    "pred_svc = svc.predict(X_test)\n",
    "\n",
    "# KNN\n",
    "knn = KNeighborsClassifier(n_neighbors=3,p=1,weights='distance')\n",
    "knn.fit(X_train,y_train)\n",
    "pred_knn = knn.predict(X_test)\n",
    "\n",
    "# NC\n",
    "nc = NearestCentroid()\n",
    "nc.fit(X_train,y_train)\n",
    "pred_nc = nc.predict(X_test)\n",
    "\n",
    "acc1 = accuracy_score(y_test,pred_svc)*100\n",
    "acc2 = accuracy_score(y_test,pred_knn)*100\n",
    "acc3 = accuracy_score(y_test,pred_nc)*100\n",
    "\n",
    "print(\"Acurácia do SVC:\",acc1,\"%\")\n",
    "print(\"Acurácia do KNN:\",acc2,\"%\")\n",
    "print(\"Acurácia do NC:\",acc3,\"%\")\n",
    "\n",
    "acc_svc.append(acc1)\n",
    "acc_knn.append(acc2)\n",
    "acc_nc.append(acc3)"
   ]
  },
  {
   "cell_type": "markdown",
   "metadata": {},
   "source": [
    "## 70%-30% de split"
   ]
  },
  {
   "cell_type": "code",
   "execution_count": 6,
   "metadata": {},
   "outputs": [
    {
     "name": "stdout",
     "output_type": "stream",
     "text": [
      "Treino e teste prontos\n",
      "Acurácia do SVC: 98.33333333333333 %\n",
      "Acurácia do KNN: 94.16666666666667 %\n",
      "Acurácia do NC: 95.83333333333334 %\n"
     ]
    }
   ],
   "source": [
    "X_train, X_test, y_train, y_test = train_test_split(\n",
    "     X, y, test_size=0.3, random_state=42)\n",
    "\n",
    "print(\"Treino e teste prontos\")\n",
    "\n",
    "# SVC\n",
    "svc = SVC(kernel='linear',gamma='auto',random_state=42)\n",
    "svc.fit(X_train,y_train)\n",
    "pred_svc = svc.predict(X_test)\n",
    "\n",
    "# KNN\n",
    "knn = KNeighborsClassifier(n_neighbors=3,p=1,weights='distance')\n",
    "knn.fit(X_train,y_train)\n",
    "pred_knn = knn.predict(X_test)\n",
    "\n",
    "# NC\n",
    "nc = NearestCentroid()\n",
    "nc.fit(X_train,y_train)\n",
    "pred_nc = nc.predict(X_test)\n",
    "\n",
    "acc1 = accuracy_score(y_test,pred_svc)*100\n",
    "acc2 = accuracy_score(y_test,pred_knn)*100\n",
    "acc3 = accuracy_score(y_test,pred_nc)*100\n",
    "\n",
    "print(\"Acurácia do SVC:\",acc1,\"%\")\n",
    "print(\"Acurácia do KNN:\",acc2,\"%\")\n",
    "print(\"Acurácia do NC:\",acc3,\"%\")\n",
    "\n",
    "acc_svc.append(acc1)\n",
    "acc_knn.append(acc2)\n",
    "acc_nc.append(acc3)"
   ]
  },
  {
   "cell_type": "markdown",
   "metadata": {},
   "source": [
    "## Comparação com as splits"
   ]
  },
  {
   "cell_type": "code",
   "execution_count": 7,
   "metadata": {},
   "outputs": [
    {
     "data": {
      "text/plain": [
       "(50.5, 29.5)"
      ]
     },
     "execution_count": 7,
     "metadata": {},
     "output_type": "execute_result"
    },
    {
     "data": {
      "image/png": "[encoded data removed]",
      "text/plain": [
       "<Figure size 432x288 with 1 Axes>"
      ]
     },
     "metadata": {},
     "output_type": "display_data"
    }
   ],
   "source": [
    "import matplotlib.pyplot as plt\n",
    "import seaborn as sns\n",
    "\n",
    "sns.set()\n",
    "\n",
    "# SVC\n",
    "\n",
    "x = [50, 45, 40, 35, 30]\n",
    "y = acc_svc\n",
    "plt.plot(x,y, marker='o')\n",
    "\n",
    "plt.title('Split: SVC')\n",
    "# naming the x axis \n",
    "plt.xlabel('Porcentagem para teste')\n",
    "# naming the y axis \n",
    "plt.ylabel('Acurácia')\n",
    "\n",
    "plt.xlim(50.5, 29.5)"
   ]
  },
  {
   "cell_type": "code",
   "execution_count": 8,
   "metadata": {},
   "outputs": [
    {
     "data": {
      "text/plain": [
       "(50.5, 29.5)"
      ]
     },
     "execution_count": 8,
     "metadata": {},
     "output_type": "execute_result"
    },
    {
     "data": {
      "image/png": "[encoded data removed]",
      "text/plain": [
       "<Figure size 432x288 with 1 Axes>"
      ]
     },
     "metadata": {},
     "output_type": "display_data"
    }
   ],
   "source": [
    "y = acc_knn\n",
    "\n",
    "plt.plot(x,y, marker='o')\n",
    "\n",
    "plt.title('Split: KNN')\n",
    "# naming the x axis \n",
    "plt.xlabel('% para teste')\n",
    "# naming the y axis \n",
    "plt.ylabel('Acurácia')\n",
    "plt.xlim(50.5, 29.5)"
   ]
  },
  {
   "cell_type": "code",
   "execution_count": 9,
   "metadata": {},
   "outputs": [
    {
     "data": {
      "text/plain": [
       "(50.5, 29.5)"
      ]
     },
     "execution_count": 9,
     "metadata": {},
     "output_type": "execute_result"
    },
    {
     "data": {
      "image/png": "[encoded data removed]",
      "text/plain": [
       "<Figure size 432x288 with 1 Axes>"
      ]
     },
     "metadata": {},
     "output_type": "display_data"
    }
   ],
   "source": [
    "y = acc_nc\n",
    "\n",
    "plt.plot(x,y, marker='o')\n",
    "\n",
    "plt.title('Split: NC')\n",
    "# naming the x axis \n",
    "plt.xlabel('% para teste')\n",
    "# naming the y axis \n",
    "plt.ylabel('Acurácia')\n",
    "plt.xlim(50.5, 29.5)"
   ]
  },
  {
   "cell_type": "markdown",
   "metadata": {},
   "source": [
    "# Conclusões\n",
    "\n",
    "O melhor split é 70%-30%. O raciocínio é simples, com mais fotos para o modelo reconhecer, melhor ele se sai. Para os 3 modelos, apesar da melhor pontuação ser do SVC."
   ]
  }
 ],
 "metadata": {
  "kernelspec": {
   "display_name": "Python 3",
   "language": "python",
   "name": "python3"
  },
  "language_info": {
   "codemirror_mode": {
    "name": "ipython",
    "version": 3
   },
   "file_extension": ".py",
   "mimetype": "text/x-python",
   "name": "python",
   "nbconvert_exporter": "python",
   "pygments_lexer": "ipython3",
   "version": "3.7.6"
  }
 },
 "nbformat": 4,
 "nbformat_minor": 4
}
